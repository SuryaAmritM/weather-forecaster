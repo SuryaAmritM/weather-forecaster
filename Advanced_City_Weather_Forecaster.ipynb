{
 "cells": [
  {
   "cell_type": "code",
   "execution_count": 40,
   "id": "9f922521-9f63-46b3-87fc-1c878df57053",
   "metadata": {},
   "outputs": [],
   "source": [
    "# 🌦️ City-Wise Weather Predictor using ML + Real-Time API\n",
    "# This notebook forecasts the next 7 days of temperature based on historical city weather data, and compares today's forecast with real-time temperature from OpenWeatherMap.\n",
    "\n",
    "# 🔽 Enter the city name (must match a CSV filename in the \"data\" folder)\n",
    "city_name = \"chennai\"  # e.g., Bangalore, Chennai\n"
   ]
  },
  {
   "cell_type": "code",
   "execution_count": 41,
   "id": "f8f39d11-5c77-41be-8d66-2ed3dc5e3466",
   "metadata": {},
   "outputs": [],
   "source": [
    "# 📍 Weather Forecasting Tool (Advanced Model)\n",
    "\n",
    "# 👋 Welcome! This tool predicts the average temperature for the next 7 days for any Indian city.\n",
    "# 🔍 It uses historical weather data + machine learning to generate a forecast.\n",
    "\n",
    "# ✅ Instructions:\n",
    "# 1. Place your city CSV file inside a folder named `data/`\n",
    "# 2. The file name should be the city name in lowercase (e.g., `chennai.csv`, `delhi.csv`)\n",
    "# 3. Run all cells below to get your forecast\n"
   ]
  },
  {
   "cell_type": "code",
   "execution_count": 42,
   "id": "e2d64c35-3ce6-433e-87b9-ee82d805b39b",
   "metadata": {},
   "outputs": [
    {
     "name": "stdout",
     "output_type": "stream",
     "text": [
      "\n",
      "✅ Loaded data for 'chennai' successfully!\n",
      "\n",
      "📊 Preview of the dataset:\n",
      "         time  tavg  tmin  tmax  prcp\n",
      "0  01-01-1990  25.2  22.8  28.4   0.5\n",
      "1  02-01-1990  24.9  21.7  29.1   0.0\n",
      "2  03-01-1990  25.6  21.4  29.8   0.0\n",
      "3  04-01-1990  25.7   NaN  28.7   0.0\n",
      "4  05-01-1990  25.5  20.7  28.4   0.0\n"
     ]
    }
   ],
   "source": [
    "import pandas as pd\n",
    "import os\n",
    "\n",
    "# 📂 Set up data path\n",
    "data_path = \"data\"\n",
    "file_path = os.path.join(data_path, f\"{city_name}.csv\")\n",
    "\n",
    "# ✅ Load data or show error\n",
    "if os.path.exists(file_path):\n",
    "    df = pd.read_csv(file_path)\n",
    "    print(f\"\\n✅ Loaded data for '{city_name}' successfully!\")\n",
    "    print(\"\\n📊 Preview of the dataset:\")\n",
    "    print(df.head())\n",
    "else:\n",
    "    print(f\"❌ File not found: {file_path}\")\n"
   ]
  },
  {
   "cell_type": "code",
   "execution_count": 43,
   "id": "17df01df-bedb-44cf-875f-b516d290df53",
   "metadata": {},
   "outputs": [
    {
     "name": "stdout",
     "output_type": "stream",
     "text": [
      "✅ Data preprocessing complete. Sample features:\n"
     ]
    },
    {
     "data": {
      "text/html": [
       "<div>\n",
       "<style scoped>\n",
       "    .dataframe tbody tr th:only-of-type {\n",
       "        vertical-align: middle;\n",
       "    }\n",
       "\n",
       "    .dataframe tbody tr th {\n",
       "        vertical-align: top;\n",
       "    }\n",
       "\n",
       "    .dataframe thead th {\n",
       "        text-align: right;\n",
       "    }\n",
       "</style>\n",
       "<table border=\"1\" class=\"dataframe\">\n",
       "  <thead>\n",
       "    <tr style=\"text-align: right;\">\n",
       "      <th></th>\n",
       "      <th>month</th>\n",
       "      <th>day_of_year</th>\n",
       "      <th>tmin</th>\n",
       "      <th>tmax</th>\n",
       "      <th>prcp</th>\n",
       "    </tr>\n",
       "  </thead>\n",
       "  <tbody>\n",
       "    <tr>\n",
       "      <th>0</th>\n",
       "      <td>1</td>\n",
       "      <td>1</td>\n",
       "      <td>22.80000</td>\n",
       "      <td>28.4</td>\n",
       "      <td>0.5</td>\n",
       "    </tr>\n",
       "    <tr>\n",
       "      <th>1</th>\n",
       "      <td>1</td>\n",
       "      <td>2</td>\n",
       "      <td>21.70000</td>\n",
       "      <td>29.1</td>\n",
       "      <td>0.0</td>\n",
       "    </tr>\n",
       "    <tr>\n",
       "      <th>2</th>\n",
       "      <td>1</td>\n",
       "      <td>3</td>\n",
       "      <td>21.40000</td>\n",
       "      <td>29.8</td>\n",
       "      <td>0.0</td>\n",
       "    </tr>\n",
       "    <tr>\n",
       "      <th>3</th>\n",
       "      <td>1</td>\n",
       "      <td>4</td>\n",
       "      <td>24.38277</td>\n",
       "      <td>28.7</td>\n",
       "      <td>0.0</td>\n",
       "    </tr>\n",
       "    <tr>\n",
       "      <th>4</th>\n",
       "      <td>1</td>\n",
       "      <td>5</td>\n",
       "      <td>20.70000</td>\n",
       "      <td>28.4</td>\n",
       "      <td>0.0</td>\n",
       "    </tr>\n",
       "  </tbody>\n",
       "</table>\n",
       "</div>"
      ],
      "text/plain": [
       "   month  day_of_year      tmin  tmax  prcp\n",
       "0      1            1  22.80000  28.4   0.5\n",
       "1      1            2  21.70000  29.1   0.0\n",
       "2      1            3  21.40000  29.8   0.0\n",
       "3      1            4  24.38277  28.7   0.0\n",
       "4      1            5  20.70000  28.4   0.0"
      ]
     },
     "execution_count": 43,
     "metadata": {},
     "output_type": "execute_result"
    }
   ],
   "source": [
    "# 📊 Clean and prepare data\n",
    "\n",
    "# Drop rows where 'tavg' (target variable) is missing\n",
    "df = df.dropna(subset=['tavg'])\n",
    "\n",
    "# Fill missing values in predictors\n",
    "df['tmin'] = df['tmin'].fillna(df['tmin'].mean())\n",
    "df['tmax'] = df['tmax'].fillna(df['tmax'].mean())\n",
    "df['prcp'] = df['prcp'].fillna(0.0)  # Assume 0 if rain data missing\n",
    "\n",
    "# Convert time to datetime format\n",
    "df['time'] = pd.to_datetime(df['time'], dayfirst=True)\n",
    "\n",
    "# Create features\n",
    "df['month'] = df['time'].dt.month\n",
    "df['day_of_year'] = df['time'].dt.dayofyear\n",
    "\n",
    "# 🎯 Define features and label\n",
    "features = ['month', 'day_of_year', 'tmin', 'tmax', 'prcp']\n",
    "X = df[features]\n",
    "y = df['tavg']\n",
    "\n",
    "# Preview\n",
    "print(\"✅ Data preprocessing complete. Sample features:\")\n",
    "X.head()\n"
   ]
  },
  {
   "cell_type": "code",
   "execution_count": 44,
   "id": "ca71255b-e7c9-468b-9996-d83c4ea480fe",
   "metadata": {},
   "outputs": [
    {
     "name": "stdout",
     "output_type": "stream",
     "text": [
      "✅ Model trained. RMSE: 0.78 °C\n"
     ]
    }
   ],
   "source": [
    "from sklearn.model_selection import train_test_split\n",
    "from sklearn.ensemble import RandomForestRegressor\n",
    "from sklearn.metrics import mean_squared_error\n",
    "import numpy as np\n",
    "\n",
    "# 🧪 Split data\n",
    "X_train, X_test, y_train, y_test = train_test_split(X, y, test_size=0.2, random_state=42)\n",
    "\n",
    "# 🌲 Train Random Forest model\n",
    "model = RandomForestRegressor(n_estimators=100, random_state=42)\n",
    "model.fit(X_train, y_train)\n",
    "\n",
    "# 📈 Predict and evaluate\n",
    "y_pred = model.predict(X_test)\n",
    "rmse = np.sqrt(mean_squared_error(y_test, y_pred))\n",
    "\n",
    "print(f\"✅ Model trained. RMSE: {round(rmse, 2)} °C\")\n"
   ]
  },
  {
   "cell_type": "code",
   "execution_count": 45,
   "id": "d176cec6-2e35-415e-bafb-c79ed290006f",
   "metadata": {},
   "outputs": [
    {
     "name": "stdout",
     "output_type": "stream",
     "text": [
      "\n",
      "🌤️  7-Day Weather Forecast:\n",
      "\n",
      "╒═══════╤════════════════════════╤══════════════════════╕\n",
      "│ Day   │ Date                   │ Predicted Avg Temp   │\n",
      "╞═══════╪════════════════════════╪══════════════════════╡\n",
      "│ Day 1 │ Tuesday, 29 Jul 2025   │ 30.18 °C             │\n",
      "├───────┼────────────────────────┼──────────────────────┤\n",
      "│ Day 2 │ Wednesday, 30 Jul 2025 │ 30.08 °C             │\n",
      "├───────┼────────────────────────┼──────────────────────┤\n",
      "│ Day 3 │ Thursday, 31 Jul 2025  │ 29.86 °C             │\n",
      "├───────┼────────────────────────┼──────────────────────┤\n",
      "│ Day 4 │ Friday, 01 Aug 2025    │ 29.92 °C             │\n",
      "├───────┼────────────────────────┼──────────────────────┤\n",
      "│ Day 5 │ Saturday, 02 Aug 2025  │ 29.85 °C             │\n",
      "├───────┼────────────────────────┼──────────────────────┤\n",
      "│ Day 6 │ Sunday, 03 Aug 2025    │ 29.37 °C             │\n",
      "├───────┼────────────────────────┼──────────────────────┤\n",
      "│ Day 7 │ Monday, 04 Aug 2025    │ 29.49 °C             │\n",
      "╘═══════╧════════════════════════╧══════════════════════╛\n"
     ]
    }
   ],
   "source": [
    "# 📅 Generate future dates\n",
    "from datetime import timedelta\n",
    "\n",
    "# Create future dates (next 7 days)\n",
    "future_dates = [datetime.now().date() + timedelta(days=i) for i in range(0, 7)]\n",
    "\n",
    "# Build future features DataFrame\n",
    "future_df = pd.DataFrame({\n",
    "    'date': future_dates,\n",
    "    'month': [date.month for date in future_dates],\n",
    "    'day_of_year': [date.timetuple().tm_yday for date in future_dates],\n",
    "    'tmin': [df['tmin'].mean()] * 7,\n",
    "    'tmax': [df['tmax'].mean()] * 7,\n",
    "    'prcp': [0.0] * 7\n",
    "})\n",
    "\n",
    "# Predict\n",
    "future_df['predicted_tavg'] = model.predict(future_df.drop(columns=['date']))\n",
    "\n",
    "\n",
    "# 📋 Show forecast\n",
    "# 📅 Pretty-print the forecast\n",
    "from tabulate import tabulate\n",
    "\n",
    "forecast_table = []\n",
    "\n",
    "for i in range(7):\n",
    "    date_str = future_dates[i].strftime(\"%A, %d %b %Y\")  # e.g., Monday, 29 Jul 2025\n",
    "    forecast_table.append([f\"Day {i+1}\", date_str, f\"{future_predictions[i]:.2f} °C\"])\n",
    "\n",
    "# Use tabulate for a clean table output\n",
    "print(\"\\n🌤️  7-Day Weather Forecast:\\n\")\n",
    "print(tabulate(forecast_table, headers=[\"Day\", \"Date\", \"Predicted Avg Temp\"], tablefmt=\"fancy_grid\"))\n",
    "\n"
   ]
  },
  {
   "cell_type": "code",
   "execution_count": 46,
   "id": "8726373e-aaa0-4c4b-8f2d-3436cd87e4d6",
   "metadata": {},
   "outputs": [
    {
     "name": "stdout",
     "output_type": "stream",
     "text": [
      "\n",
      "🌤️ Real-Time Weather in chennai:\n",
      "Temperature: 31.15°C\n",
      "Description: Overcast Clouds\n",
      "Humidity: 50%\n",
      "Wind Speed: 6.85 m/s\n"
     ]
    }
   ],
   "source": [
    "import requests\n",
    "\n",
    "# Replace with your actual API key\n",
    "API_KEY = \"0f9cfae2d33a54218206cb6e42040f11\"\n",
    "\n",
    "# Use the city name entered earlier\n",
    "def get_real_time_weather(city, api_key):\n",
    "    url = f\"http://api.openweathermap.org/data/2.5/weather?q={city}&appid={api_key}&units=metric\"\n",
    "    response = requests.get(url)\n",
    "\n",
    "    if response.status_code == 200:\n",
    "        data = response.json()\n",
    "        weather = {\n",
    "            \"description\": data[\"weather\"][0][\"description\"].title(),\n",
    "            \"temperature\": data[\"main\"][\"temp\"],\n",
    "            \"humidity\": data[\"main\"][\"humidity\"],\n",
    "            \"wind_speed\": data[\"wind\"][\"speed\"]\n",
    "        }\n",
    "        return weather\n",
    "    else:\n",
    "        return {\"error\": f\"Failed to fetch data: {response.status_code}\"}\n",
    "\n",
    "# Example usage\n",
    "real_time_weather = get_real_time_weather(city_name, API_KEY)\n",
    "\n",
    "# Display the result\n",
    "if \"error\" in real_time_weather:\n",
    "    print(real_time_weather[\"error\"])\n",
    "else:\n",
    "    print(f\"\\n🌤️ Real-Time Weather in {city_name}:\")\n",
    "    print(f\"Temperature: {real_time_weather['temperature']}°C\")\n",
    "    print(f\"Description: {real_time_weather['description']}\")\n",
    "    print(f\"Humidity: {real_time_weather['humidity']}%\")\n",
    "    print(f\"Wind Speed: {real_time_weather['wind_speed']} m/s\")\n"
   ]
  },
  {
   "cell_type": "code",
   "execution_count": 47,
   "id": "1b90898d-365b-49bc-9fe7-be0707e6a83e",
   "metadata": {},
   "outputs": [
    {
     "name": "stdout",
     "output_type": "stream",
     "text": [
      "\n",
      "🔍 Comparison for July 29, 2025:\n",
      "Predicted Temperature: 30.5°C\n",
      "Real-Time Temperature: 31.15°C\n",
      "Difference: 0.65°C\n"
     ]
    }
   ],
   "source": [
    "from datetime import datetime\n",
    "\n",
    "# Get today's date in the prediction\n",
    "today = datetime.now().date()\n",
    "\n",
    "# Find predicted value for today\n",
    "today_prediction_row = future_df[future_df['date'] == today]\n",
    "\n",
    "if not today_prediction_row.empty and \"error\" not in real_time_weather:\n",
    "    predicted_temp = round(today_prediction_row['predicted_tavg'].values[0], 2)\n",
    "    actual_temp = real_time_weather['temperature']\n",
    "    \n",
    "    print(f\"\\n🔍 Comparison for {today.strftime('%B %d, %Y')}:\")\n",
    "    print(f\"Predicted Temperature: {predicted_temp}°C\")\n",
    "    print(f\"Real-Time Temperature: {actual_temp}°C\")\n",
    "    print(f\"Difference: {round(abs(predicted_temp - actual_temp), 2)}°C\")\n",
    "else:\n",
    "    print(\"❗ Unable to compare because today's prediction or real-time data is unavailable.\")\n"
   ]
  },
  {
   "cell_type": "code",
   "execution_count": 48,
   "id": "a9e30e48-3717-4678-8aa8-a1375e2b94fe",
   "metadata": {},
   "outputs": [
    {
     "name": "stdout",
     "output_type": "stream",
     "text": [
      "\n",
      "✅ All steps completed successfully!\n",
      "📉 Model trained using Random Forest Regressor with an RMSE of 0.78 °C\n",
      "📅 Forecast generated for the next 7 calendar days based on historical weather patterns.\n",
      "\n",
      "📂 To test with a different city, just change the 'city_name' at the top and re-run all cells.\n"
     ]
    }
   ],
   "source": [
    "print(\"\\n✅ All steps completed successfully!\")\n",
    "print(f\"📉 Model trained using Random Forest Regressor with an RMSE of {round(rmse, 2)} °C\")\n",
    "print(\"📅 Forecast generated for the next 7 calendar days based on historical weather patterns.\")\n",
    "print(\"\\n📂 To test with a different city, just change the 'city_name' at the top and re-run all cells.\")\n"
   ]
  },
  {
   "cell_type": "code",
   "execution_count": null,
   "id": "5bd7993a-0b0c-4a66-b193-509bd11086d5",
   "metadata": {},
   "outputs": [],
   "source": []
  }
 ],
 "metadata": {
  "kernelspec": {
   "display_name": "Python 3 (ipykernel)",
   "language": "python",
   "name": "python3"
  },
  "language_info": {
   "codemirror_mode": {
    "name": "ipython",
    "version": 3
   },
   "file_extension": ".py",
   "mimetype": "text/x-python",
   "name": "python",
   "nbconvert_exporter": "python",
   "pygments_lexer": "ipython3",
   "version": "3.13.1"
  }
 },
 "nbformat": 4,
 "nbformat_minor": 5
}
